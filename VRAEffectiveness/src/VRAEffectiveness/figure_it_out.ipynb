{
  "cells": [
    {
      "cell_type": "markdown",
      "source": [
        "# VRA Effectiveness Interface"
      ],
      "metadata": {}
    },
    {
      "cell_type": "code",
      "execution_count": null,
      "source": [
        "#r \"nuget:FSharp.Data\"\n",
        "#r \"nuget:Deedle\"\n",
        "\n",
        "// #r \"nuget: Newtonsoft.Json, 13.0.1\"\n",
        "// #r \"nuget: Amazon.Lambda.APIGatewayEvents, 2.4.0\"\n",
        "// #r \"nuget: Amazon.Lambda.TestUtilities, 2.0.0\"\n",
        "// #r \"nuget: Chiron, 6.3.1\"\n"
      ],
      "outputs": [
        {
          "output_type": "display_data",
          "data": {
            "text/html": [
              "<div><div></div><div></div><div><strong>Installed Packages</strong><ul><li><span>Deedle, 2.4.2</span></li><li><span>FSharp.Data, 4.2.2</span></li></ul></div></div>"
            ]
          },
          "metadata": {}
        }
      ],
      "metadata": {
        "dotnet_interactive": {
          "language": "fsharp"
        }
      }
    },
    {
      "cell_type": "code",
      "execution_count": null,
      "source": [
        "#load \"/Users/apizzimenti/Desktop/mggg/internal/web/districtr-serverless/VRAEffectiveness/src/VRAEffectiveness/VRAEffectiveness.fs\""
      ],
      "outputs": [],
      "metadata": {
        "dotnet_interactive": {
          "language": "fsharp"
        }
      }
    },
    {
      "cell_type": "code",
      "execution_count": null,
      "source": [
        "open Deedle\n",
        "open FSharp.Data\n",
        "open VRAEffectiveness\n",
        "// open Newtonsoft.Json\n",
        "// open Amazon.Lambda.APIGatewayEvents\n",
        "// open Amazon.Lambda.TestUtilities\n",
        "// open Chiron\n"
      ],
      "outputs": [],
      "metadata": {
        "dotnet_interactive": {
          "language": "fsharp"
        }
      }
    },
    {
      "cell_type": "markdown",
      "source": [
        "#### Load in State data + Plan info and define column names"
      ],
      "metadata": {}
    },
    {
      "cell_type": "code",
      "execution_count": null,
      "source": [
        "let value = JsonValue.Load(__SOURCE_DIRECTORY__ + \"/resources/maryland.json\")\n",
        "let test = Frame.ReadCsv(__SOURCE_DIRECTORY__ + \"/resources/maryland.csv\")\n",
        "let planMap = JsonValue.Load(__SOURCE_DIRECTORY__ + \"/resources/md-sample.json\")\n",
        "\n",
        "let precinctID = \"VTD\"\n",
        "let districtID = \"District\""
      ],
      "outputs": [],
      "metadata": {
        "dotnet_interactive": {
          "language": "fsharp"
        }
      }
    },
    {
      "cell_type": "code",
      "execution_count": null,
      "source": [
        "(value.TryGetProperty \"alignment_year\").Value.ToString()"
      ],
      "outputs": [
        {
          "output_type": "display_data",
          "data": {
            "text/plain": [
              "2018"
            ]
          },
          "metadata": {}
        }
      ],
      "metadata": {
        "dotnet_interactive": {
          "language": "fsharp"
        }
      }
    },
    {
      "cell_type": "code",
      "execution_count": null,
      "source": [
        "let parse = Parser value\n",
        "let mins = parse.Minorities\n",
        "let elects = parse.Elections\n",
        "let alignmentYear = parse.AlignmentYear"
      ],
      "outputs": [],
      "metadata": {
        "dotnet_interactive": {
          "language": "fsharp"
        }
      }
    },
    {
      "cell_type": "code",
      "execution_count": null,
      "source": [
        "let dist15 = txPlan |> Frame.filterRowsBy districtID 37"
      ],
      "outputs": [],
      "metadata": {
        "dotnet_interactive": {
          "language": "fsharp"
        }
      }
    },
    {
      "cell_type": "code",
      "execution_count": null,
      "source": [
        "let tx = test |> Frame.indexRowsString precinctID\n",
        "let assignment = planMap.Properties() |> Array.map (fun (a,b) -> a,b.AsInteger())\n",
        "let txPlan = tx |> Frame.addCol districtID (assignment |> Series.ofObservations)"
      ],
      "outputs": [],
      "metadata": {
        "dotnet_interactive": {
          "language": "fsharp"
        }
      }
    },
    {
      "cell_type": "code",
      "execution_count": null,
      "source": [
        "let vrascores: PlanVRASummary<int> = PlanVRAEffectivenessDetailed dist15 districtID mins elects CoCCarriesElectPlurality alignmentYear EmptyAlignment"
      ],
      "outputs": [],
      "metadata": {
        "dotnet_interactive": {
          "language": "fsharp"
        }
      }
    },
    {
      "cell_type": "code",
      "execution_count": null,
      "source": [
        "vrascores"
      ],
      "outputs": [
        {
          "output_type": "display_data",
          "data": {
            "text/html": [
              "<table><thead><tr><th><i>key</i></th><th>value</th></tr></thead><tbody><tr><td>Black</td><td><div class=\"dni-plaintext\">[ { [37, { Score = 0.0\n",
              "  CVAPShare = 0.4554250173\n",
              "  ElectionDetails =\n",
              "   [|{ Name = &quot;GOV14&quot;\n",
              "       CoC = &quot;GOV14PD_AB&quot;\n",
              "       CoCPerc = 0.6710649899\n",
              "       CoCPlace = 1\n",
              "       FirstPlacePerc = 0.6710649899\n",
              "       NumCands = 3\n",
              "       ExistsRunoff = false\n",
              "       CoCRO = &quot;&quot;\n",
              "       CoCPercRO = 0.0\n",
              "       ExistsGen = true\n",
              "       CoCGen = &quot;GOV14D&quot;\n",
              "       CoCPercGen = 0.3150412076\n",
              "       GroupControl = 0.4554250173 }; { Name = &quot;SEN16&quot;\n",
              "                                        CoC = &quot;SEN16PD_DE&quot;\n",
              "                                        CoCPerc = 0.4820414343\n",
              "                                        CoCPlace = 2\n",
              "                                        FirstPlacePerc = 0.5179585657\n",
              "                                        NumCands = 2\n",
              "                                        ExistsRunoff = false\n",
              "                                        CoCRO = &quot;&quot;\n",
              "                                        CoCPercRO = 0.0\n",
              "                                        ExistsGen = true\n",
              "                                        CoCGen = &quot;SEN16D&quot;\n",
              "                                        CoCPercGen = 0.4311183981\n",
              "                                        GroupControl = 0.4554250173 };\n",
              "     { Name = &quot;GOV18&quot;\n",
              "       CoC = &quot;GOV18PD_BJ&quot;\n",
              "       CoCPerc = 0.3803424988\n",
              "       CoCPlace = 1\n",
              "       FirstPlacePerc = 0.3803424988\n",
              "       NumCands = 5\n",
              "       ExistsRunoff = false\n",
              "       CoCRO = &quot;&quot;\n",
              "       CoCPercRO = 0.0\n",
              "       ExistsGen = true\n",
              "       CoCGen = &quot;GOV18D&quot;\n",
              "       CoCPercGen = 0.3000933052\n",
              "       GroupControl = 0.4554250173 }|] }]: Key: 37, Value: { { Score = 0.0\n",
              "  CVAPShare = 0.4554250173\n",
              "  ElectionDetails =\n",
              "   [|{ Name = &quot;GOV14&quot;\n",
              "       CoC = &quot;GOV14PD_AB&quot;\n",
              "       CoCPerc = 0.6710649899\n",
              "       CoCPlace = 1\n",
              "       FirstPlacePerc = 0.6710649899\n",
              "       NumCands = 3\n",
              "       ExistsRunoff = false\n",
              "       CoCRO = &quot;&quot;\n",
              "       CoCPercRO = 0.0\n",
              "       ExistsGen = true\n",
              "       CoCGen = &quot;GOV14D&quot;\n",
              "       CoCPercGen = 0.3150412076\n",
              "       GroupControl = 0.4554250173 }; { Name = &quot;SEN16&quot;\n",
              "                                        CoC = &quot;SEN16PD_DE&quot;\n",
              "                                        CoCPerc = 0.4820414343\n",
              "                                        CoCPlace = 2\n",
              "                                        FirstPlacePerc = 0.5179585657\n",
              "                                        NumCands = 2\n",
              "                                        ExistsRunoff = false\n",
              "                                        CoCRO = &quot;&quot;\n",
              "                                        CoCPercRO = 0.0\n",
              "                                        ExistsGen = true\n",
              "                                        CoCGen = &quot;SEN16D&quot;\n",
              "                                        CoCPercGen = 0.4311183981\n",
              "                                        GroupControl = 0.4554250173 };\n",
              "     { Name = &quot;GOV18&quot;\n",
              "       CoC = &quot;GOV18PD_BJ&quot;\n",
              "       CoCPerc = 0.3803424988\n",
              "       CoCPlace = 1\n",
              "       FirstPlacePerc = 0.3803424988\n",
              "       NumCands = 5\n",
              "       ExistsRunoff = false\n",
              "       CoCRO = &quot;&quot;\n",
              "       CoCPercRO = 0.0\n",
              "       ExistsGen = true\n",
              "       CoCGen = &quot;GOV18D&quot;\n",
              "       CoCPercGen = 0.3000933052\n",
              "       GroupControl = 0.4554250173 }|] }: Score: 0, CVAPShare: 0.4554250172771251, ElectionDetails: [ { { Name = &quot;GOV14&quot;\n",
              "  CoC = &quot;GOV14PD_AB&quot;\n",
              "  CoCPerc = 0.6710649899\n",
              "  CoCPlace = 1\n",
              "  FirstPlacePerc = 0.6710649899\n",
              "  NumCands = 3\n",
              "  ExistsRunoff = false\n",
              "  CoCRO = &quot;&quot;\n",
              "  CoCPercRO = 0.0\n",
              "  ExistsGen = true\n",
              "  CoCGen = &quot;GOV14D&quot;\n",
              "  CoCPercGen = 0.3150412076\n",
              "  GroupControl = 0.4554250173 }: Name: GOV14, CoC: GOV14PD_AB, CoCPerc: 0.671064989863142, CoCPlace: 1, FirstPlacePerc: 0.671064989863142, NumCands: 3, ExistsRunoff: False, CoCRO: , CoCPercRO: 0, ExistsGen: True, CoCGen: GOV14D, CoCPercGen: 0.3150412075525837, GroupControl: 0.4554250172771251 }, { { Name = &quot;SEN16&quot;\n",
              "  CoC = &quot;SEN16PD_DE&quot;\n",
              "  CoCPerc = 0.4820414343\n",
              "  CoCPlace = 2\n",
              "  FirstPlacePerc = 0.5179585657\n",
              "  NumCands = 2\n",
              "  ExistsRunoff = false\n",
              "  CoCRO = &quot;&quot;\n",
              "  CoCPercRO = 0.0\n",
              "  ExistsGen = true\n",
              "  CoCGen = &quot;SEN16D&quot;\n",
              "  CoCPercGen = 0.4311183981\n",
              "  GroupControl = 0.4554250173 }: Name: SEN16, CoC: SEN16PD_DE, CoCPerc: 0.48204143434992136, CoCPlace: 2, FirstPlacePerc: 0.5179585656500787, NumCands: 2, ExistsRunoff: False, CoCRO: , CoCPercRO: 0, ExistsGen: True, CoCGen: SEN16D, CoCPercGen: 0.43111839805260566, GroupControl: 0.4554250172771251 }, { { Name = &quot;GOV18&quot;\n",
              "  CoC = &quot;GOV18PD_BJ&quot;\n",
              "  CoCPerc = 0.3803424988\n",
              "  CoCPlace = 1\n",
              "  FirstPlacePerc = 0.3803424988\n",
              "  NumCands = 5\n",
              "  ExistsRunoff = false\n",
              "  CoCRO = &quot;&quot;\n",
              "  CoCPercRO = 0.0\n",
              "  ExistsGen = true\n",
              "  CoCGen = &quot;GOV18D&quot;\n",
              "  CoCPercGen = 0.3000933052\n",
              "  GroupControl = 0.4554250173 }: Name: GOV18, CoC: GOV18PD_BJ, CoCPerc: 0.380342498823352, CoCPlace: 1, FirstPlacePerc: 0.380342498823352, NumCands: 5, ExistsRunoff: False, CoCRO: , CoCPercRO: 0, ExistsGen: True, CoCGen: GOV18D, CoCPercGen: 0.30009330515014226, GroupControl: 0.4554250172771251 } ] } } ]</div></td></tr></tbody></table>"
            ]
          },
          "metadata": {}
        }
      ],
      "metadata": {
        "dotnet_interactive": {
          "language": "fsharp"
        }
      }
    },
    {
      "cell_type": "code",
      "execution_count": null,
      "source": [
        "let vrascores: PlanVRAScores<int> = PlanVRAEffectiveness dist15 districtID mins elects CoCCarriesElectTX alignmentYear AlignmentCVAP"
      ],
      "outputs": [],
      "metadata": {
        "dotnet_interactive": {
          "language": "fsharp"
        }
      }
    },
    {
      "cell_type": "code",
      "execution_count": null,
      "source": [
        "vrascores"
      ],
      "outputs": [
        {
          "output_type": "error",
          "ename": "Error",
          "evalue": "input.fsx (1,1)-(1,10) typecheck error The value or constructor 'vrascores' is not defined.",
          "traceback": [
            "input.fsx (1,1)-(1,10) typecheck error The value or constructor 'vrascores' is not defined."
          ]
        }
      ],
      "metadata": {
        "dotnet_interactive": {
          "language": "fsharp"
        }
      }
    },
    {
      "cell_type": "code",
      "execution_count": null,
      "source": [
        "let jsonResponce = JsonConvert.SerializeObject vrascores"
      ],
      "outputs": [
        {
          "output_type": "error",
          "ename": "Error",
          "evalue": "input.fsx (1,20)-(1,31) typecheck error The value, namespace, type or module 'JsonConvert' is not defined. Maybe you want one of the following:\n   JsonConverter\n   Json\n   JsonString\n   JsonFormatter",
          "traceback": [
            "input.fsx (1,20)-(1,31) typecheck error The value, namespace, type or module 'JsonConvert' is not defined. Maybe you want one of the following:\n",
            "   JsonConverter\n",
            "   Json\n",
            "   JsonString\n",
            "   JsonFormatter"
          ]
        }
      ],
      "metadata": {
        "dotnet_interactive": {
          "language": "fsharp"
        }
      }
    },
    {
      "cell_type": "code",
      "execution_count": null,
      "source": [
        "jsonResponce"
      ],
      "outputs": [
        {
          "output_type": "error",
          "ename": "Error",
          "evalue": "input.fsx (1,1)-(1,13) typecheck error The value or constructor 'jsonResponce' is not defined. Maybe you want one of the following:\n   JsonConverter\n   Json\n   JsonString",
          "traceback": [
            "input.fsx (1,1)-(1,13) typecheck error The value or constructor 'jsonResponce' is not defined. Maybe you want one of the following:\n",
            "   JsonConverter\n",
            "   Json\n",
            "   JsonString"
          ]
        }
      ],
      "metadata": {
        "dotnet_interactive": {
          "language": "fsharp"
        }
      }
    },
    {
      "cell_type": "code",
      "execution_count": null,
      "source": [
        "let testPlan = \"\"\"{\"110101\": 0, \"110201\": 0, \"110202\": 0, \"110301\": 0, \"110303\": 0, \"110401\": 0 }\"\"\""
      ],
      "outputs": [],
      "metadata": {
        "dotnet_interactive": {
          "language": "fsharp"
        }
      }
    },
    {
      "cell_type": "code",
      "execution_count": null,
      "source": [
        "let testAssign = JsonValue.Parse(testPlan).Properties() |> Array.map (fun (a,b) -> a,b.AsInteger()) |> Series.ofObservations"
      ],
      "outputs": [
        {
          "output_type": "error",
          "ename": "Error",
          "evalue": "input.fsx (1,18)-(1,27) typecheck error The value, namespace, type or module 'JsonValue' is not defined. Maybe you want one of the following:\n   Json\ninput.fsx (1,86)-(1,97) typecheck error Lookup on object of indeterminate type based on information prior to this program point. A type annotation may be needed prior to this program point to constrain the type of the object. This may allow the lookup to be resolved.\ninput.fsx (1,104)-(1,110) typecheck error The value, namespace, type or module 'Series' is not defined. Maybe you want one of the following:\n   ServiceModel",
          "traceback": [
            "input.fsx (1,18)-(1,27) typecheck error The value, namespace, type or module 'JsonValue' is not defined. Maybe you want one of the following:\n",
            "   Json\n",
            "input.fsx (1,86)-(1,97) typecheck error Lookup on object of indeterminate type based on information prior to this program point. A type annotation may be needed prior to this program point to constrain the type of the object. This may allow the lookup to be resolved.\n",
            "input.fsx (1,104)-(1,110) typecheck error The value, namespace, type or module 'Series' is not defined. Maybe you want one of the following:\n",
            "   ServiceModel"
          ]
        }
      ],
      "metadata": {
        "dotnet_interactive": {
          "language": "fsharp"
        }
      }
    },
    {
      "cell_type": "code",
      "execution_count": null,
      "source": [
        "let testTXPlan = tx |> Frame.addCol districtID testAssign"
      ],
      "outputs": [
        {
          "output_type": "error",
          "ename": "Error",
          "evalue": "input.fsx (1,18)-(1,20) typecheck error The value or constructor 'tx' is not defined.\ninput.fsx (1,24)-(1,29) typecheck error The value, namespace, type or module 'Frame' is not defined. Maybe you want one of the following:\n   Format",
          "traceback": [
            "input.fsx (1,18)-(1,20) typecheck error The value or constructor 'tx' is not defined.\n",
            "input.fsx (1,24)-(1,29) typecheck error The value, namespace, type or module 'Frame' is not defined. Maybe you want one of the following:\n",
            "   Format"
          ]
        }
      ],
      "metadata": {
        "dotnet_interactive": {
          "language": "fsharp"
        }
      }
    },
    {
      "cell_type": "code",
      "execution_count": null,
      "source": [
        "let vrascoresTest: PlanVRASummary<int> = PlanVRAEffectivenessDetailed testTXPlan districtID mins elects CoCCarriesElectTX"
      ],
      "outputs": [
        {
          "output_type": "error",
          "ename": "Error",
          "evalue": "input.fsx (1,20)-(1,34) typecheck error The type 'PlanVRASummary' is not defined.\ninput.fsx (1,42)-(1,70) typecheck error The value or constructor 'PlanVRAEffectivenessDetailed' is not defined.",
          "traceback": [
            "input.fsx (1,20)-(1,34) typecheck error The type 'PlanVRASummary' is not defined.\n",
            "input.fsx (1,42)-(1,70) typecheck error The value or constructor 'PlanVRAEffectivenessDetailed' is not defined."
          ]
        }
      ],
      "metadata": {
        "dotnet_interactive": {
          "language": "fsharp"
        }
      }
    },
    {
      "cell_type": "code",
      "execution_count": null,
      "source": [
        "vrascoresTest"
      ],
      "outputs": [
        {
          "output_type": "error",
          "ename": "Error",
          "evalue": "input.fsx (1,1)-(1,14) typecheck error The value or constructor 'vrascoresTest' is not defined.",
          "traceback": [
            "input.fsx (1,1)-(1,14) typecheck error The value or constructor 'vrascoresTest' is not defined."
          ]
        }
      ],
      "metadata": {
        "dotnet_interactive": {
          "language": "fsharp"
        }
      }
    },
    {
      "cell_type": "code",
      "execution_count": null,
      "source": [
        "(testTXPlan |> Frame.filterRowsBy districtCol 0).[\"ObamaD_12P_President\"]"
      ],
      "outputs": [
        {
          "output_type": "error",
          "ename": "Error",
          "evalue": "input.fsx (1,2)-(1,12) typecheck error The value or constructor 'testTXPlan' is not defined. Maybe you want one of the following:\n   testPlan\ninput.fsx (1,16)-(1,21) typecheck error The value, namespace, type or module 'Frame' is not defined. Maybe you want one of the following:\n   Format\ninput.fsx (1,1)-(1,74) typecheck error The operator 'expr.[idx]' has been used on an object of indeterminate type based on information prior to this program point. Consider adding further type constraints",
          "traceback": [
            "input.fsx (1,2)-(1,12) typecheck error The value or constructor 'testTXPlan' is not defined. Maybe you want one of the following:\n",
            "   testPlan\n",
            "input.fsx (1,16)-(1,21) typecheck error The value, namespace, type or module 'Frame' is not defined. Maybe you want one of the following:\n",
            "   Format\n",
            "input.fsx (1,1)-(1,74) typecheck error The operator 'expr.[idx]' has been used on an object of indeterminate type based on information prior to this program point. Consider adding further type constraints"
          ]
        }
      ],
      "metadata": {
        "dotnet_interactive": {
          "language": "fsharp"
        }
      }
    },
    {
      "cell_type": "code",
      "execution_count": null,
      "source": [
        "let voteCounts = (districts |> Seq.head) |> Frame.sliceCols elects.[0].Primary.candidates\n",
        "                                         |> Frame.reduceValues (+)"
      ],
      "outputs": [
        {
          "output_type": "error",
          "ename": "Error",
          "evalue": "input.fsx (1,19)-(1,28) typecheck error The value or constructor 'districts' is not defined.\ninput.fsx (1,45)-(1,50) typecheck error The value, namespace, type or module 'Frame' is not defined. Maybe you want one of the following:\n   Format\ninput.fsx (2,45)-(2,50) typecheck error The value, namespace, type or module 'Frame' is not defined. Maybe you want one of the following:\n   Format",
          "traceback": [
            "input.fsx (1,19)-(1,28) typecheck error The value or constructor 'districts' is not defined.\n",
            "input.fsx (1,45)-(1,50) typecheck error The value, namespace, type or module 'Frame' is not defined. Maybe you want one of the following:\n",
            "   Format\n",
            "input.fsx (2,45)-(2,50) typecheck error The value, namespace, type or module 'Frame' is not defined. Maybe you want one of the following:\n",
            "   Format"
          ]
        }
      ],
      "metadata": {
        "dotnet_interactive": {
          "language": "fsharp"
        }
      }
    },
    {
      "cell_type": "code",
      "execution_count": null,
      "source": [
        "let totalVotes = Stats.sum voteCounts\n",
        "totalVotes"
      ],
      "outputs": [
        {
          "output_type": "error",
          "ename": "Error",
          "evalue": "input.fsx (1,18)-(1,23) typecheck error The value, namespace, type or module 'Stats' is not defined.",
          "traceback": [
            "input.fsx (1,18)-(1,23) typecheck error The value, namespace, type or module 'Stats' is not defined."
          ]
        }
      ],
      "metadata": {
        "dotnet_interactive": {
          "language": "fsharp"
        }
      }
    },
    {
      "cell_type": "code",
      "execution_count": null,
      "source": [],
      "outputs": [],
      "metadata": {
        "dotnet_interactive": {
          "language": "fsharp"
        }
      }
    },
    {
      "cell_type": "code",
      "execution_count": null,
      "source": [
        "CoCCarriesElectTX (districts |> Seq.head) \"Black\" elects.[0]"
      ],
      "outputs": [
        {
          "output_type": "error",
          "ename": "Error",
          "evalue": "input.fsx (1,1)-(1,18) typecheck error The value or constructor 'CoCCarriesElectTX' is not defined.",
          "traceback": [
            "input.fsx (1,1)-(1,18) typecheck error The value or constructor 'CoCCarriesElectTX' is not defined."
          ]
        }
      ],
      "metadata": {
        "dotnet_interactive": {
          "language": "fsharp"
        }
      }
    },
    {
      "cell_type": "code",
      "execution_count": null,
      "source": [
        "elects.[0].Primary.VoteShares (districts |> Seq.head)"
      ],
      "outputs": [
        {
          "output_type": "error",
          "ename": "Error",
          "evalue": "input.fsx (1,1)-(1,7) typecheck error The value or constructor 'elects' is not defined.\ninput.fsx (1,1)-(1,11) typecheck error The operator 'expr.[idx]' has been used on an object of indeterminate type based on information prior to this program point. Consider adding further type constraints",
          "traceback": [
            "input.fsx (1,1)-(1,7) typecheck error The value or constructor 'elects' is not defined.\n",
            "input.fsx (1,1)-(1,11) typecheck error The operator 'expr.[idx]' has been used on an object of indeterminate type based on information prior to this program point. Consider adding further type constraints"
          ]
        }
      ],
      "metadata": {
        "dotnet_interactive": {
          "language": "fsharp"
        }
      }
    },
    {
      "cell_type": "code",
      "execution_count": null,
      "source": [
        "elects.[0].Primary.VoteShares testTXPlan"
      ],
      "outputs": [
        {
          "output_type": "error",
          "ename": "Error",
          "evalue": "input.fsx (1,1)-(1,7) typecheck error The value or constructor 'elects' is not defined.\ninput.fsx (1,1)-(1,11) typecheck error The operator 'expr.[idx]' has been used on an object of indeterminate type based on information prior to this program point. Consider adding further type constraints",
          "traceback": [
            "input.fsx (1,1)-(1,7) typecheck error The value or constructor 'elects' is not defined.\n",
            "input.fsx (1,1)-(1,11) typecheck error The operator 'expr.[idx]' has been used on an object of indeterminate type based on information prior to this program point. Consider adding further type constraints"
          ]
        }
      ],
      "metadata": {
        "dotnet_interactive": {
          "language": "fsharp"
        }
      }
    },
    {
      "cell_type": "code",
      "execution_count": null,
      "source": [
        "let planData = testTXPlan\n",
        "let districtCol = \"District\"\n",
        "let districtIDs: seq<int> = planData |> Frame.getCol districtCol |> Series.values |> Seq.distinct\n",
        "let districts = districtIDs |> Seq.map (fun d -> planData |> Frame.filterRowsBy districtCol d)"
      ],
      "outputs": [
        {
          "output_type": "error",
          "ename": "Error",
          "evalue": "input.fsx (1,16)-(1,26) typecheck error The value or constructor 'testTXPlan' is not defined. Maybe you want one of the following:\n   testPlan\ninput.fsx (3,41)-(3,46) typecheck error The value, namespace, type or module 'Frame' is not defined. Maybe you want one of the following:\n   Format\ninput.fsx (3,69)-(3,75) typecheck error The value, namespace, type or module 'Series' is not defined. Maybe you want one of the following:\n   ServiceModel\ninput.fsx (4,62)-(4,67) typecheck error The value, namespace, type or module 'Frame' is not defined. Maybe you want one of the following:\n   Format",
          "traceback": [
            "input.fsx (1,16)-(1,26) typecheck error The value or constructor 'testTXPlan' is not defined. Maybe you want one of the following:\n",
            "   testPlan\n",
            "input.fsx (3,41)-(3,46) typecheck error The value, namespace, type or module 'Frame' is not defined. Maybe you want one of the following:\n",
            "   Format\n",
            "input.fsx (3,69)-(3,75) typecheck error The value, namespace, type or module 'Series' is not defined. Maybe you want one of the following:\n",
            "   ServiceModel\n",
            "input.fsx (4,62)-(4,67) typecheck error The value, namespace, type or module 'Frame' is not defined. Maybe you want one of the following:\n",
            "   Format"
          ]
        }
      ],
      "metadata": {
        "dotnet_interactive": {
          "language": "fsharp"
        }
      }
    },
    {
      "cell_type": "code",
      "execution_count": null,
      "source": [
        "(districts |> Seq.head)"
      ],
      "outputs": [
        {
          "output_type": "error",
          "ename": "Error",
          "evalue": "input.fsx (1,2)-(1,11) typecheck error The value or constructor 'districts' is not defined.",
          "traceback": [
            "input.fsx (1,2)-(1,11) typecheck error The value or constructor 'districts' is not defined."
          ]
        }
      ],
      "metadata": {
        "dotnet_interactive": {
          "language": "fsharp"
        }
      }
    },
    {
      "cell_type": "code",
      "execution_count": null,
      "source": [
        "(districts |> Seq.head).[\"ObamaD_12P_President\"]"
      ],
      "outputs": [
        {
          "output_type": "error",
          "ename": "Error",
          "evalue": "input.fsx (1,2)-(1,11) typecheck error The value or constructor 'districts' is not defined.\ninput.fsx (1,1)-(1,49) typecheck error The operator 'expr.[idx]' has been used on an object of indeterminate type based on information prior to this program point. Consider adding further type constraints",
          "traceback": [
            "input.fsx (1,2)-(1,11) typecheck error The value or constructor 'districts' is not defined.\n",
            "input.fsx (1,1)-(1,49) typecheck error The operator 'expr.[idx]' has been used on an object of indeterminate type based on information prior to this program point. Consider adding further type constraints"
          ]
        }
      ],
      "metadata": {
        "dotnet_interactive": {
          "language": "fsharp"
        }
      }
    },
    {
      "cell_type": "code",
      "execution_count": null,
      "source": [
        "testTXPlan"
      ],
      "outputs": [
        {
          "output_type": "error",
          "ename": "Error",
          "evalue": "input.fsx (1,1)-(1,11) typecheck error The value or constructor 'testTXPlan' is not defined. Maybe you want one of the following:\n   testPlan",
          "traceback": [
            "input.fsx (1,1)-(1,11) typecheck error The value or constructor 'testTXPlan' is not defined. Maybe you want one of the following:\n",
            "   testPlan"
          ]
        }
      ],
      "metadata": {
        "dotnet_interactive": {
          "language": "fsharp"
        }
      }
    },
    {
      "cell_type": "markdown",
      "source": [
        "## Scratch Work"
      ],
      "metadata": {}
    },
    {
      "cell_type": "code",
      "execution_count": null,
      "source": [
        "let getDistCol plan = plan |> Frame.getCol districtID\n",
        "let distcol: Series<string, int> = txPlan |> Frame.getCol districtID"
      ],
      "outputs": [
        {
          "output_type": "error",
          "ename": "Error",
          "evalue": "input.fsx (1,31)-(1,36) typecheck error The value, namespace, type or module 'Frame' is not defined. Maybe you want one of the following:\n   Format\ninput.fsx (2,14)-(2,20) typecheck error The type 'Series' is not defined.\ninput.fsx (2,36)-(2,42) typecheck error The value or constructor 'txPlan' is not defined.\ninput.fsx (2,46)-(2,51) typecheck error The value, namespace, type or module 'Frame' is not defined. Maybe you want one of the following:\n   Format",
          "traceback": [
            "input.fsx (1,31)-(1,36) typecheck error The value, namespace, type or module 'Frame' is not defined. Maybe you want one of the following:\n",
            "   Format\n",
            "input.fsx (2,14)-(2,20) typecheck error The type 'Series' is not defined.\n",
            "input.fsx (2,36)-(2,42) typecheck error The value or constructor 'txPlan' is not defined.\n",
            "input.fsx (2,46)-(2,51) typecheck error The value, namespace, type or module 'Frame' is not defined. Maybe you want one of the following:\n",
            "   Format"
          ]
        }
      ],
      "metadata": {
        "dotnet_interactive": {
          "language": "fsharp"
        }
      }
    },
    {
      "cell_type": "code",
      "execution_count": null,
      "source": [
        "let districtIDs = Series.values distcol |> Seq.distinct\n",
        "let ds = districtIDs |> Seq.map (fun d -> txPlan |> Frame.filterRowsBy districtID d)"
      ],
      "outputs": [
        {
          "output_type": "error",
          "ename": "Error",
          "evalue": "input.fsx (1,19)-(1,25) typecheck error The value, namespace, type or module 'Series' is not defined. Maybe you want one of the following:\n   ServiceModel\ninput.fsx (2,43)-(2,49) typecheck error The value or constructor 'txPlan' is not defined.\ninput.fsx (2,53)-(2,58) typecheck error The value, namespace, type or module 'Frame' is not defined. Maybe you want one of the following:\n   Format",
          "traceback": [
            "input.fsx (1,19)-(1,25) typecheck error The value, namespace, type or module 'Series' is not defined. Maybe you want one of the following:\n",
            "   ServiceModel\n",
            "input.fsx (2,43)-(2,49) typecheck error The value or constructor 'txPlan' is not defined.\n",
            "input.fsx (2,53)-(2,58) typecheck error The value, namespace, type or module 'Frame' is not defined. Maybe you want one of the following:\n",
            "   Format"
          ]
        }
      ],
      "metadata": {
        "dotnet_interactive": {
          "language": "fsharp"
        }
      }
    },
    {
      "cell_type": "code",
      "execution_count": null,
      "source": [
        "let m = mins.[1] |> fst\n",
        "let l = mins.[1] |> snd\n",
        "let d = ds |> Seq.tail |> Seq.head"
      ],
      "outputs": [
        {
          "output_type": "error",
          "ename": "Error",
          "evalue": "input.fsx (1,9)-(1,13) typecheck error The value or constructor 'mins' is not defined. Maybe you want one of the following:\n   min\n   int\ninput.fsx (1,9)-(1,17) typecheck error The operator 'expr.[idx]' has been used on an object of indeterminate type based on information prior to this program point. Consider adding further type constraints\ninput.fsx (2,9)-(2,13) typecheck error The value or constructor 'mins' is not defined. Maybe you want one of the following:\n   min\n   int\ninput.fsx (2,9)-(2,17) typecheck error The operator 'expr.[idx]' has been used on an object of indeterminate type based on information prior to this program point. Consider adding further type constraints\ninput.fsx (3,9)-(3,11) typecheck error The value or constructor 'ds' is not defined.",
          "traceback": [
            "input.fsx (1,9)-(1,13) typecheck error The value or constructor 'mins' is not defined. Maybe you want one of the following:\n",
            "   min\n",
            "   int\n",
            "input.fsx (1,9)-(1,17) typecheck error The operator 'expr.[idx]' has been used on an object of indeterminate type based on information prior to this program point. Consider adding further type constraints\n",
            "input.fsx (2,9)-(2,13) typecheck error The value or constructor 'mins' is not defined. Maybe you want one of the following:\n",
            "   min\n",
            "   int\n",
            "input.fsx (2,9)-(2,17) typecheck error The operator 'expr.[idx]' has been used on an object of indeterminate type based on information prior to this program point. Consider adding further type constraints\n",
            "input.fsx (3,9)-(3,11) typecheck error The value or constructor 'ds' is not defined."
          ]
        }
      ],
      "metadata": {
        "dotnet_interactive": {
          "language": "fsharp"
        }
      }
    },
    {
      "cell_type": "code",
      "execution_count": null,
      "source": [
        "let e = elects.[2]"
      ],
      "outputs": [
        {
          "output_type": "error",
          "ename": "Error",
          "evalue": "input.fsx (1,9)-(1,15) typecheck error The value or constructor 'elects' is not defined.\ninput.fsx (1,9)-(1,19) typecheck error The operator 'expr.[idx]' has been used on an object of indeterminate type based on information prior to this program point. Consider adding further type constraints",
          "traceback": [
            "input.fsx (1,9)-(1,15) typecheck error The value or constructor 'elects' is not defined.\n",
            "input.fsx (1,9)-(1,19) typecheck error The operator 'expr.[idx]' has been used on an object of indeterminate type based on information prior to this program point. Consider adding further type constraints"
          ]
        }
      ],
      "metadata": {
        "dotnet_interactive": {
          "language": "fsharp"
        }
      }
    },
    {
      "cell_type": "code",
      "execution_count": null,
      "source": [
        "\"Ab C\".ToLower().Replace(\" \", \"_\")"
      ],
      "outputs": [
        {
          "output_type": "display_data",
          "data": {
            "text/plain": [
              "ab_c"
            ]
          },
          "metadata": {}
        }
      ],
      "metadata": {
        "dotnet_interactive": {
          "language": "fsharp"
        }
      }
    },
    {
      "cell_type": "code",
      "execution_count": null,
      "source": [
        "System.Reflection.Assembly.GetEntryAssembly().Location"
      ],
      "outputs": [
        {
          "output_type": "display_data",
          "data": {
            "text/plain": [
              "/Users/apizzimenti/.nuget/packages/microsoft.dotnet-interactive/1.0.245702/tools/net5.0/any/Microsoft.DotNet.Interactive.App.dll"
            ]
          },
          "metadata": {}
        }
      ],
      "metadata": {
        "dotnet_interactive": {
          "language": "fsharp"
        }
      }
    },
    {
      "cell_type": "code",
      "execution_count": null,
      "source": [],
      "outputs": [],
      "metadata": {
        "dotnet_interactive": {
          "language": "fsharp"
        }
      }
    },
    {
      "cell_type": "code",
      "execution_count": null,
      "source": [],
      "outputs": [],
      "metadata": {
        "dotnet_interactive": {
          "language": "fsharp"
        }
      }
    },
    {
      "cell_type": "code",
      "execution_count": null,
      "source": [
        "DistrictElectionDetails m e d |> JsonSerializer.Serialize"
      ],
      "outputs": [
        {
          "output_type": "error",
          "ename": "Error",
          "evalue": "input.fsx (1,1)-(1,24) typecheck error The value or constructor 'DistrictElectionDetails' is not defined.\ninput.fsx (1,34)-(1,48) typecheck error The value, namespace, type or module 'JsonSerializer' is not defined. Maybe you want one of the following:\n   JsonString\n   Json",
          "traceback": [
            "input.fsx (1,1)-(1,24) typecheck error The value or constructor 'DistrictElectionDetails' is not defined.\n",
            "input.fsx (1,34)-(1,48) typecheck error The value, namespace, type or module 'JsonSerializer' is not defined. Maybe you want one of the following:\n",
            "   JsonString\n",
            "   Json"
          ]
        }
      ],
      "metadata": {
        "dotnet_interactive": {
          "language": "fsharp"
        }
      }
    },
    {
      "cell_type": "code",
      "execution_count": null,
      "source": [
        "e"
      ],
      "outputs": [
        {
          "output_type": "error",
          "ename": "Error",
          "evalue": "input.fsx (1,1)-(1,2) typecheck error The value or constructor 'e' is not defined.",
          "traceback": [
            "input.fsx (1,1)-(1,2) typecheck error The value or constructor 'e' is not defined."
          ]
        }
      ],
      "metadata": {
        "dotnet_interactive": {
          "language": "fsharp"
        }
      }
    },
    {
      "cell_type": "code",
      "execution_count": null,
      "source": [
        "Series.filterValues (fun x -> x >= cocShare) shares |> Series.countKeys"
      ],
      "outputs": [
        {
          "output_type": "error",
          "ename": "Error",
          "evalue": "input.fsx (1,1)-(1,7) typecheck error The value, namespace, type or module 'Series' is not defined. Maybe you want one of the following:\n   ServiceModel\ninput.fsx (1,56)-(1,62) typecheck error The value, namespace, type or module 'Series' is not defined. Maybe you want one of the following:\n   ServiceModel",
          "traceback": [
            "input.fsx (1,1)-(1,7) typecheck error The value, namespace, type or module 'Series' is not defined. Maybe you want one of the following:\n",
            "   ServiceModel\n",
            "input.fsx (1,56)-(1,62) typecheck error The value, namespace, type or module 'Series' is not defined. Maybe you want one of the following:\n",
            "   ServiceModel"
          ]
        }
      ],
      "metadata": {
        "dotnet_interactive": {
          "language": "fsharp"
        }
      }
    },
    {
      "cell_type": "code",
      "execution_count": null,
      "source": [
        "Stats.maxBy (fun a -> a) shares |> Option.get |> fst"
      ],
      "outputs": [
        {
          "output_type": "error",
          "ename": "Error",
          "evalue": "input.fsx (1,1)-(1,6) typecheck error The value, namespace, type or module 'Stats' is not defined.",
          "traceback": [
            "input.fsx (1,1)-(1,6) typecheck error The value, namespace, type or module 'Stats' is not defined."
          ]
        }
      ],
      "metadata": {
        "dotnet_interactive": {
          "language": "fsharp"
        }
      }
    },
    {
      "cell_type": "code",
      "execution_count": null,
      "source": [
        "shares |> Series.get \"ObamaD_12P_President\""
      ],
      "outputs": [
        {
          "output_type": "error",
          "ename": "Error",
          "evalue": "input.fsx (1,1)-(1,7) typecheck error The value or constructor 'shares' is not defined. Maybe you want one of the following:\n   FSharp\ninput.fsx (1,11)-(1,17) typecheck error The value, namespace, type or module 'Series' is not defined. Maybe you want one of the following:\n   ServiceModel",
          "traceback": [
            "input.fsx (1,1)-(1,7) typecheck error The value or constructor 'shares' is not defined. Maybe you want one of the following:\n",
            "   FSharp\n",
            "input.fsx (1,11)-(1,17) typecheck error The value, namespace, type or module 'Series' is not defined. Maybe you want one of the following:\n",
            "   ServiceModel"
          ]
        }
      ],
      "metadata": {
        "dotnet_interactive": {
          "language": "fsharp"
        }
      }
    },
    {
      "cell_type": "code",
      "execution_count": null,
      "source": [
        "Some 1 |> JsonSerializer.Serialize"
      ],
      "outputs": [
        {
          "output_type": "error",
          "ename": "Error",
          "evalue": "input.fsx (1,11)-(1,25) typecheck error The value, namespace, type or module 'JsonSerializer' is not defined. Maybe you want one of the following:\n   JsonString\n   Json",
          "traceback": [
            "input.fsx (1,11)-(1,25) typecheck error The value, namespace, type or module 'JsonSerializer' is not defined. Maybe you want one of the following:\n",
            "   JsonString\n",
            "   Json"
          ]
        }
      ],
      "metadata": {
        "dotnet_interactive": {
          "language": "fsharp"
        }
      }
    },
    {
      "cell_type": "code",
      "execution_count": null,
      "source": [
        "ds |> Seq.map (DistrictVRAEffectiveness m elects CoCCarriesElectTX l)"
      ],
      "outputs": [
        {
          "output_type": "error",
          "ename": "Error",
          "evalue": "input.fsx (1,1)-(1,3) typecheck error The value or constructor 'ds' is not defined.\ninput.fsx (1,16)-(1,40) typecheck error The value or constructor 'DistrictVRAEffectiveness' is not defined.",
          "traceback": [
            "input.fsx (1,1)-(1,3) typecheck error The value or constructor 'ds' is not defined.\n",
            "input.fsx (1,16)-(1,40) typecheck error The value or constructor 'DistrictVRAEffectiveness' is not defined."
          ]
        }
      ],
      "metadata": {
        "dotnet_interactive": {
          "language": "fsharp"
        }
      }
    },
    {
      "cell_type": "code",
      "execution_count": null,
      "source": [],
      "outputs": [],
      "metadata": {
        "dotnet_interactive": {
          "language": "fsharp"
        }
      }
    },
    {
      "cell_type": "code",
      "execution_count": null,
      "source": [],
      "outputs": [],
      "metadata": {
        "dotnet_interactive": {
          "language": "fsharp"
        }
      }
    },
    {
      "cell_type": "code",
      "execution_count": null,
      "source": [
        "elects.[0]"
      ],
      "outputs": [
        {
          "output_type": "error",
          "ename": "Error",
          "evalue": "input.fsx (1,1)-(1,7) typecheck error The value or constructor 'elects' is not defined.\ninput.fsx (1,1)-(1,11) typecheck error The operator 'expr.[idx]' has been used on an object of indeterminate type based on information prior to this program point. Consider adding further type constraints",
          "traceback": [
            "input.fsx (1,1)-(1,7) typecheck error The value or constructor 'elects' is not defined.\n",
            "input.fsx (1,1)-(1,11) typecheck error The operator 'expr.[idx]' has been used on an object of indeterminate type based on information prior to this program point. Consider adding further type constraints"
          ]
        }
      ],
      "metadata": {
        "dotnet_interactive": {
          "language": "fsharp"
        }
      }
    },
    {
      "cell_type": "code",
      "execution_count": null,
      "source": [],
      "outputs": [],
      "metadata": {
        "dotnet_interactive": {
          "language": "fsharp"
        }
      }
    },
    {
      "cell_type": "code",
      "execution_count": null,
      "source": [
        "let electtest = tx //|> Frame.sliceRows [|\"10001\"; \"10022\"|]\n",
        "              |> Frame.sliceCols [\"GarrettD_16P_RR_Comm_1\";\"YarbroughD_16P_RR_Comm_1\";\"BurnamD_16P_RR_Comm_1\"]\n",
        "              |> Frame.reduceValues (+)"
      ],
      "outputs": [
        {
          "output_type": "error",
          "ename": "Error",
          "evalue": "input.fsx (1,17)-(1,19) typecheck error The value or constructor 'tx' is not defined.\ninput.fsx (2,18)-(2,23) typecheck error The value, namespace, type or module 'Frame' is not defined. Maybe you want one of the following:\n   Format\ninput.fsx (3,18)-(3,23) typecheck error The value, namespace, type or module 'Frame' is not defined. Maybe you want one of the following:\n   Format",
          "traceback": [
            "input.fsx (1,17)-(1,19) typecheck error The value or constructor 'tx' is not defined.\n",
            "input.fsx (2,18)-(2,23) typecheck error The value, namespace, type or module 'Frame' is not defined. Maybe you want one of the following:\n",
            "   Format\n",
            "input.fsx (3,18)-(3,23) typecheck error The value, namespace, type or module 'Frame' is not defined. Maybe you want one of the following:\n",
            "   Format"
          ]
        }
      ],
      "metadata": {
        "dotnet_interactive": {
          "language": "fsharp"
        }
      }
    },
    {
      "cell_type": "code",
      "execution_count": null,
      "source": [
        "let total = electtest|> Series.reduceValues (+)\n",
        "Stats.sum electtest"
      ],
      "outputs": [
        {
          "output_type": "error",
          "ename": "Error",
          "evalue": "input.fsx (1,13)-(1,22) typecheck error The value or constructor 'electtest' is not defined.\ninput.fsx (1,25)-(1,31) typecheck error The value, namespace, type or module 'Series' is not defined. Maybe you want one of the following:\n   ServiceModel\ninput.fsx (2,1)-(2,6) typecheck error The value, namespace, type or module 'Stats' is not defined.",
          "traceback": [
            "input.fsx (1,13)-(1,22) typecheck error The value or constructor 'electtest' is not defined.\n",
            "input.fsx (1,25)-(1,31) typecheck error The value, namespace, type or module 'Series' is not defined. Maybe you want one of the following:\n",
            "   ServiceModel\n",
            "input.fsx (2,1)-(2,6) typecheck error The value, namespace, type or module 'Stats' is not defined."
          ]
        }
      ],
      "metadata": {
        "dotnet_interactive": {
          "language": "fsharp"
        }
      }
    },
    {
      "cell_type": "code",
      "execution_count": null,
      "source": [
        "let total = Stats.sum electtest\n",
        "electtest |> Series.mapValues (fun a -> float a / float total)"
      ],
      "outputs": [
        {
          "output_type": "error",
          "ename": "Error",
          "evalue": "input.fsx (1,13)-(1,18) typecheck error The value, namespace, type or module 'Stats' is not defined.\ninput.fsx (2,1)-(2,10) typecheck error The value or constructor 'electtest' is not defined.\ninput.fsx (2,14)-(2,20) typecheck error The value, namespace, type or module 'Series' is not defined. Maybe you want one of the following:\n   ServiceModel",
          "traceback": [
            "input.fsx (1,13)-(1,18) typecheck error The value, namespace, type or module 'Stats' is not defined.\n",
            "input.fsx (2,1)-(2,10) typecheck error The value or constructor 'electtest' is not defined.\n",
            "input.fsx (2,14)-(2,20) typecheck error The value, namespace, type or module 'Series' is not defined. Maybe you want one of the following:\n",
            "   ServiceModel"
          ]
        }
      ],
      "metadata": {
        "dotnet_interactive": {
          "language": "fsharp"
        }
      }
    },
    {
      "cell_type": "code",
      "execution_count": null,
      "source": [
        "let test = tx |> Frame.sliceRows [|\"10001\"; \"10022\"|]\n",
        "              |> Frame.sliceCols [\"CVAP18\"; \"BCVAP18\"; \"HCVAP18\"]\n",
        "              |> Frame.reduceValues (fun (a:float) b -> a + b)"
      ],
      "outputs": [
        {
          "output_type": "error",
          "ename": "Error",
          "evalue": "input.fsx (1,12)-(1,14) typecheck error The value or constructor 'tx' is not defined.\ninput.fsx (1,18)-(1,23) typecheck error The value, namespace, type or module 'Frame' is not defined. Maybe you want one of the following:\n   Format\ninput.fsx (2,18)-(2,23) typecheck error The value, namespace, type or module 'Frame' is not defined. Maybe you want one of the following:\n   Format\ninput.fsx (3,18)-(3,23) typecheck error The value, namespace, type or module 'Frame' is not defined. Maybe you want one of the following:\n   Format",
          "traceback": [
            "input.fsx (1,12)-(1,14) typecheck error The value or constructor 'tx' is not defined.\n",
            "input.fsx (1,18)-(1,23) typecheck error The value, namespace, type or module 'Frame' is not defined. Maybe you want one of the following:\n",
            "   Format\n",
            "input.fsx (2,18)-(2,23) typecheck error The value, namespace, type or module 'Frame' is not defined. Maybe you want one of the following:\n",
            "   Format\n",
            "input.fsx (3,18)-(3,23) typecheck error The value, namespace, type or module 'Frame' is not defined. Maybe you want one of the following:\n",
            "   Format"
          ]
        }
      ],
      "metadata": {
        "dotnet_interactive": {
          "language": "fsharp"
        }
      }
    },
    {
      "cell_type": "code",
      "execution_count": null,
      "source": [
        "test.[\"BCVAP18\"] / test.[\"CVAP18\"]"
      ],
      "outputs": [
        {
          "output_type": "error",
          "ename": "Error",
          "evalue": "input.fsx (1,1)-(1,5) typecheck error The value or constructor 'test' is not defined. Maybe you want one of the following:\n   testPlan\n   Text\ninput.fsx (1,1)-(1,17) typecheck error The operator 'expr.[idx]' has been used on an object of indeterminate type based on information prior to this program point. Consider adding further type constraints\ninput.fsx (1,20)-(1,24) typecheck error The value or constructor 'test' is not defined. Maybe you want one of the following:\n   testPlan\n   Text\ninput.fsx (1,20)-(1,35) typecheck error The operator 'expr.[idx]' has been used on an object of indeterminate type based on information prior to this program point. Consider adding further type constraints",
          "traceback": [
            "input.fsx (1,1)-(1,5) typecheck error The value or constructor 'test' is not defined. Maybe you want one of the following:\n",
            "   testPlan\n",
            "   Text\n",
            "input.fsx (1,1)-(1,17) typecheck error The operator 'expr.[idx]' has been used on an object of indeterminate type based on information prior to this program point. Consider adding further type constraints\n",
            "input.fsx (1,20)-(1,24) typecheck error The value or constructor 'test' is not defined. Maybe you want one of the following:\n",
            "   testPlan\n",
            "   Text\n",
            "input.fsx (1,20)-(1,35) typecheck error The operator 'expr.[idx]' has been used on an object of indeterminate type based on information prior to this program point. Consider adding further type constraints"
          ]
        }
      ],
      "metadata": {
        "dotnet_interactive": {
          "language": "fsharp"
        }
      }
    },
    {
      "cell_type": "code",
      "execution_count": null,
      "source": [
        "test |> Series.reduceValues (fun (a:float) b -> a + b)"
      ],
      "outputs": [
        {
          "output_type": "error",
          "ename": "Error",
          "evalue": "input.fsx (1,1)-(1,5) typecheck error The value or constructor 'test' is not defined. Maybe you want one of the following:\n   testPlan\n   Text\ninput.fsx (1,9)-(1,15) typecheck error The value, namespace, type or module 'Series' is not defined. Maybe you want one of the following:\n   ServiceModel",
          "traceback": [
            "input.fsx (1,1)-(1,5) typecheck error The value or constructor 'test' is not defined. Maybe you want one of the following:\n",
            "   testPlan\n",
            "   Text\n",
            "input.fsx (1,9)-(1,15) typecheck error The value, namespace, type or module 'Series' is not defined. Maybe you want one of the following:\n",
            "   ServiceModel"
          ]
        }
      ],
      "metadata": {
        "dotnet_interactive": {
          "language": "fsharp"
        }
      }
    },
    {
      "cell_type": "code",
      "execution_count": null,
      "source": [
        "[|\"10001\"; \"10022\"|]"
      ],
      "outputs": [
        {
          "output_type": "display_data",
          "data": {
            "text/html": [
              "<table><thead><tr><th><i>index</i></th><th>value</th></tr></thead><tbody><tr><td>0</td><td>10001</td></tr><tr><td>1</td><td>10022</td></tr></tbody></table>"
            ]
          },
          "metadata": {}
        }
      ],
      "metadata": {
        "dotnet_interactive": {
          "language": "fsharp"
        }
      }
    },
    {
      "cell_type": "code",
      "execution_count": null,
      "source": [
        "value.[\"tot_cvap_col\"]"
      ],
      "outputs": [
        {
          "output_type": "error",
          "ename": "Error",
          "evalue": "input.fsx (1,1)-(1,6) typecheck error The value or constructor 'value' is not defined. Maybe you want one of the following:\n   ValueNone\n   ValueSome\n   ValueType\n   ValueTuple\n   ValueOption\ninput.fsx (1,1)-(1,23) typecheck error The operator 'expr.[idx]' has been used on an object of indeterminate type based on information prior to this program point. Consider adding further type constraints",
          "traceback": [
            "input.fsx (1,1)-(1,6) typecheck error The value or constructor 'value' is not defined. Maybe you want one of the following:\n",
            "   ValueNone\n",
            "   ValueSome\n",
            "   ValueType\n",
            "   ValueTuple\n",
            "   ValueOption\n",
            "input.fsx (1,1)-(1,23) typecheck error The operator 'expr.[idx]' has been used on an object of indeterminate type based on information prior to this program point. Consider adding further type constraints"
          ]
        }
      ],
      "metadata": {
        "dotnet_interactive": {
          "language": "fsharp"
        }
      }
    },
    {
      "cell_type": "code",
      "execution_count": null,
      "source": [
        "value.[\"minorities\"]"
      ],
      "outputs": [
        {
          "output_type": "error",
          "ename": "Error",
          "evalue": "input.fsx (1,1)-(1,6) typecheck error The value or constructor 'value' is not defined. Maybe you want one of the following:\n   ValueNone\n   ValueSome\n   ValueType\n   ValueTuple\n   ValueOption\ninput.fsx (1,1)-(1,21) typecheck error The operator 'expr.[idx]' has been used on an object of indeterminate type based on information prior to this program point. Consider adding further type constraints",
          "traceback": [
            "input.fsx (1,1)-(1,6) typecheck error The value or constructor 'value' is not defined. Maybe you want one of the following:\n",
            "   ValueNone\n",
            "   ValueSome\n",
            "   ValueType\n",
            "   ValueTuple\n",
            "   ValueOption\n",
            "input.fsx (1,1)-(1,21) typecheck error The operator 'expr.[idx]' has been used on an object of indeterminate type based on information prior to this program point. Consider adding further type constraints"
          ]
        }
      ],
      "metadata": {
        "dotnet_interactive": {
          "language": "fsharp"
        }
      }
    },
    {
      "cell_type": "code",
      "execution_count": null,
      "source": [
        "let e = Election([|\"GarrettD_16P_RR_Comm_1\";\"YarbroughD_16P_RR_Comm_1\";\"BurnamD_16P_RR_Comm_1\"|])"
      ],
      "outputs": [
        {
          "output_type": "error",
          "ename": "Error",
          "evalue": "input.fsx (1,9)-(1,17) typecheck error The value or constructor 'Election' is not defined. Maybe you want one of the following:\n   Reflection\n   Exception\n   Action",
          "traceback": [
            "input.fsx (1,9)-(1,17) typecheck error The value or constructor 'Election' is not defined. Maybe you want one of the following:\n",
            "   Reflection\n",
            "   Exception\n",
            "   Action"
          ]
        }
      ],
      "metadata": {
        "dotnet_interactive": {
          "language": "fsharp"
        }
      }
    },
    {
      "cell_type": "code",
      "execution_count": null,
      "source": [
        "let distnodes = [|1110001;1110002;1110003;1110004;1110005;1110006;1110007;1110008;\n",
        "                      1110009;2050101;2050102;2050201;2050202;2050301;2050401;3410101;\n",
        "                      3410202;3410301;3410401;3410402;4210101;4210102;4210201;4210202;\n",
        "                      4210301;4210302;4210401|]\n",
        "                      |> Array.map string\n",
        "\n",
        "let district = tx |> Frame.sliceRows distnodes "
      ],
      "outputs": [
        {
          "output_type": "error",
          "ename": "Error",
          "evalue": "input.fsx (7,16)-(7,18) typecheck error The value or constructor 'tx' is not defined.\ninput.fsx (7,22)-(7,27) typecheck error The value, namespace, type or module 'Frame' is not defined. Maybe you want one of the following:\n   Format",
          "traceback": [
            "input.fsx (7,16)-(7,18) typecheck error The value or constructor 'tx' is not defined.\n",
            "input.fsx (7,22)-(7,27) typecheck error The value, namespace, type or module 'Frame' is not defined. Maybe you want one of the following:\n",
            "   Format"
          ]
        }
      ],
      "metadata": {
        "dotnet_interactive": {
          "language": "fsharp"
        }
      }
    },
    {
      "cell_type": "code",
      "execution_count": null,
      "source": [],
      "outputs": [],
      "metadata": {
        "dotnet_interactive": {
          "language": "fsharp"
        }
      }
    },
    {
      "cell_type": "code",
      "execution_count": null,
      "source": [
        "e.VoteShares(district)"
      ],
      "outputs": [
        {
          "output_type": "error",
          "ename": "Error",
          "evalue": "input.fsx (1,1)-(1,2) typecheck error The value, namespace, type or module 'e' is not defined.",
          "traceback": [
            "input.fsx (1,1)-(1,2) typecheck error The value, namespace, type or module 'e' is not defined."
          ]
        }
      ],
      "metadata": {
        "dotnet_interactive": {
          "language": "fsharp"
        }
      }
    },
    {
      "cell_type": "code",
      "execution_count": null,
      "source": [
        "e.VoteShares(tx)"
      ],
      "outputs": [
        {
          "output_type": "error",
          "ename": "Error",
          "evalue": "input.fsx (1,1)-(1,2) typecheck error The value, namespace, type or module 'e' is not defined.",
          "traceback": [
            "input.fsx (1,1)-(1,2) typecheck error The value, namespace, type or module 'e' is not defined."
          ]
        }
      ],
      "metadata": {
        "dotnet_interactive": {
          "language": "fsharp"
        }
      }
    },
    {
      "cell_type": "code",
      "execution_count": null,
      "source": [],
      "outputs": [],
      "metadata": {
        "dotnet_interactive": {
          "language": "fsharp"
        }
      }
    },
    {
      "cell_type": "code",
      "execution_count": null,
      "source": [],
      "outputs": [],
      "metadata": {
        "dotnet_interactive": {
          "language": "fsharp"
        }
      }
    },
    {
      "cell_type": "code",
      "execution_count": null,
      "source": [
        "Series.sortBy (fun v -> - v) vs |> Series.getAt 0"
      ],
      "outputs": [
        {
          "output_type": "error",
          "ename": "Error",
          "evalue": "input.fsx (1,1)-(1,7) typecheck error The value, namespace, type or module 'Series' is not defined. Maybe you want one of the following:\n   ServiceModel\ninput.fsx (1,36)-(1,42) typecheck error The value, namespace, type or module 'Series' is not defined. Maybe you want one of the following:\n   ServiceModel",
          "traceback": [
            "input.fsx (1,1)-(1,7) typecheck error The value, namespace, type or module 'Series' is not defined. Maybe you want one of the following:\n",
            "   ServiceModel\n",
            "input.fsx (1,36)-(1,42) typecheck error The value, namespace, type or module 'Series' is not defined. Maybe you want one of the following:\n",
            "   ServiceModel"
          ]
        }
      ],
      "metadata": {
        "dotnet_interactive": {
          "language": "fsharp"
        }
      }
    },
    {
      "cell_type": "code",
      "execution_count": null,
      "source": [
        "Stats.sum district.[\"CVAP18\"]"
      ],
      "outputs": [
        {
          "output_type": "error",
          "ename": "Error",
          "evalue": "input.fsx (1,1)-(1,6) typecheck error The value, namespace, type or module 'Stats' is not defined.",
          "traceback": [
            "input.fsx (1,1)-(1,6) typecheck error The value, namespace, type or module 'Stats' is not defined."
          ]
        }
      ],
      "metadata": {
        "dotnet_interactive": {
          "language": "fsharp"
        }
      }
    },
    {
      "cell_type": "code",
      "execution_count": null,
      "source": [
        "let m = Matrix<double>.Build"
      ],
      "outputs": [
        {
          "output_type": "error",
          "ename": "Error",
          "evalue": "input.fsx (1,9)-(1,15) typecheck error The value or constructor 'Matrix' is not defined. Maybe you want one of the following:\n   Math\n   max",
          "traceback": [
            "input.fsx (1,9)-(1,15) typecheck error The value or constructor 'Matrix' is not defined. Maybe you want one of the following:\n",
            "   Math\n",
            "   max"
          ]
        }
      ],
      "metadata": {
        "dotnet_interactive": {
          "language": "fsharp"
        }
      }
    },
    {
      "cell_type": "code",
      "execution_count": null,
      "source": [
        "let x = [|1.; 2.; 3.|] |> Vector<float>.Build.DenseOfArray"
      ],
      "outputs": [
        {
          "output_type": "error",
          "ename": "Error",
          "evalue": "input.fsx (1,27)-(1,33) typecheck error The value or constructor 'Vector' is not defined.",
          "traceback": [
            "input.fsx (1,27)-(1,33) typecheck error The value or constructor 'Vector' is not defined."
          ]
        }
      ],
      "metadata": {
        "dotnet_interactive": {
          "language": "fsharp"
        }
      }
    },
    {
      "cell_type": "code",
      "execution_count": null,
      "source": [
        "Vector.DotProduct"
      ],
      "outputs": [
        {
          "output_type": "error",
          "ename": "Error",
          "evalue": "input.fsx (1,1)-(1,7) typecheck error The value, namespace, type or module 'Vector' is not defined.",
          "traceback": [
            "input.fsx (1,1)-(1,7) typecheck error The value, namespace, type or module 'Vector' is not defined."
          ]
        }
      ],
      "metadata": {
        "dotnet_interactive": {
          "language": "fsharp"
        }
      }
    },
    {
      "cell_type": "code",
      "execution_count": null,
      "source": [
        "x.DotProduct x"
      ],
      "outputs": [
        {
          "output_type": "error",
          "ename": "Error",
          "evalue": "input.fsx (1,1)-(1,2) typecheck error The value, namespace, type or module 'x' is not defined.",
          "traceback": [
            "input.fsx (1,1)-(1,2) typecheck error The value, namespace, type or module 'x' is not defined."
          ]
        }
      ],
      "metadata": {
        "dotnet_interactive": {
          "language": "fsharp"
        }
      }
    },
    {
      "cell_type": "code",
      "execution_count": null,
      "source": [
        "x.Sum() / 12. "
      ],
      "outputs": [
        {
          "output_type": "error",
          "ename": "Error",
          "evalue": "input.fsx (1,1)-(1,2) typecheck error The value, namespace, type or module 'x' is not defined.",
          "traceback": [
            "input.fsx (1,1)-(1,2) typecheck error The value, namespace, type or module 'x' is not defined."
          ]
        }
      ],
      "metadata": {
        "dotnet_interactive": {
          "language": "fsharp"
        }
      }
    },
    {
      "cell_type": "code",
      "execution_count": null,
      "source": [],
      "outputs": [],
      "metadata": {
        "dotnet_interactive": {
          "language": "fsharp"
        }
      }
    },
    {
      "cell_type": "code",
      "execution_count": null,
      "source": [],
      "outputs": [],
      "metadata": {
        "dotnet_interactive": {
          "language": "fsharp"
        }
      }
    },
    {
      "cell_type": "code",
      "execution_count": null,
      "source": [],
      "outputs": [],
      "metadata": {
        "dotnet_interactive": {
          "language": "fsharp"
        }
      }
    },
    {
      "cell_type": "code",
      "execution_count": null,
      "source": [
        "Some 1"
      ],
      "outputs": [
        {
          "output_type": "display_data",
          "data": {
            "text/html": [
              "<table><thead><tr><th>Value</th></tr></thead><tbody><tr><td><div class=\"dni-plaintext\">1</div></td></tr></tbody></table>"
            ]
          },
          "metadata": {}
        }
      ],
      "metadata": {
        "dotnet_interactive": {
          "language": "fsharp"
        }
      }
    },
    {
      "cell_type": "code",
      "execution_count": null,
      "source": [],
      "outputs": [],
      "metadata": {
        "dotnet_interactive": {
          "language": "fsharp"
        }
      }
    },
    {
      "cell_type": "code",
      "execution_count": null,
      "source": [],
      "outputs": [],
      "metadata": {
        "dotnet_interactive": {
          "language": "fsharp"
        }
      }
    },
    {
      "cell_type": "code",
      "execution_count": null,
      "source": [],
      "outputs": [],
      "metadata": {
        "dotnet_interactive": {
          "language": "fsharp"
        }
      }
    },
    {
      "cell_type": "code",
      "execution_count": null,
      "source": [
        "e.VoteShares (Seq.last ds)"
      ],
      "outputs": [
        {
          "output_type": "error",
          "ename": "Error",
          "evalue": "input.fsx (1,1)-(1,2) typecheck error The value, namespace, type or module 'e' is not defined.",
          "traceback": [
            "input.fsx (1,1)-(1,2) typecheck error The value, namespace, type or module 'e' is not defined."
          ]
        }
      ],
      "metadata": {
        "dotnet_interactive": {
          "language": "fsharp"
        }
      }
    },
    {
      "cell_type": "code",
      "execution_count": null,
      "source": [],
      "outputs": [],
      "metadata": {
        "dotnet_interactive": {
          "language": "fsharp"
        }
      }
    },
    {
      "cell_type": "code",
      "execution_count": null,
      "source": [],
      "outputs": [],
      "metadata": {
        "dotnet_interactive": {
          "language": "fsharp"
        }
      }
    },
    {
      "cell_type": "code",
      "execution_count": null,
      "source": [],
      "outputs": [],
      "metadata": {
        "dotnet_interactive": {
          "language": "fsharp"
        }
      }
    },
    {
      "cell_type": "code",
      "execution_count": null,
      "source": [
        "ds |> Array.map e.VoteShares"
      ],
      "outputs": [
        {
          "output_type": "error",
          "ename": "Error",
          "evalue": "input.fsx (1,1)-(1,3) typecheck error The value or constructor 'ds' is not defined.\ninput.fsx (1,17)-(1,18) typecheck error The value, namespace, type or module 'e' is not defined.",
          "traceback": [
            "input.fsx (1,1)-(1,3) typecheck error The value or constructor 'ds' is not defined.\n",
            "input.fsx (1,17)-(1,18) typecheck error The value, namespace, type or module 'e' is not defined."
          ]
        }
      ],
      "metadata": {
        "dotnet_interactive": {
          "language": "fsharp"
        }
      }
    },
    {
      "cell_type": "code",
      "execution_count": null,
      "source": [
        "let getVoteShares d = \n",
        "    tx |> Frame.sliceRows d |> e.VoteShares\n",
        "\n",
        "[0 .. ds.Length - 1] |> List.map (fun i -> getVoteShares ds.[i])"
      ],
      "outputs": [
        {
          "output_type": "error",
          "ename": "Error",
          "evalue": "input.fsx (2,5)-(2,7) typecheck error The value or constructor 'tx' is not defined.\ninput.fsx (2,11)-(2,16) typecheck error The value, namespace, type or module 'Frame' is not defined. Maybe you want one of the following:\n   Format\ninput.fsx (2,32)-(2,33) typecheck error The value, namespace, type or module 'e' is not defined.\ninput.fsx (4,7)-(4,9) typecheck error The value, namespace, type or module 'ds' is not defined.\ninput.fsx (4,58)-(4,60) typecheck error The value or constructor 'ds' is not defined.\ninput.fsx (4,58)-(4,64) typecheck error The operator 'expr.[idx]' has been used on an object of indeterminate type based on information prior to this program point. Consider adding further type constraints",
          "traceback": [
            "input.fsx (2,5)-(2,7) typecheck error The value or constructor 'tx' is not defined.\n",
            "input.fsx (2,11)-(2,16) typecheck error The value, namespace, type or module 'Frame' is not defined. Maybe you want one of the following:\n",
            "   Format\n",
            "input.fsx (2,32)-(2,33) typecheck error The value, namespace, type or module 'e' is not defined.\n",
            "input.fsx (4,7)-(4,9) typecheck error The value, namespace, type or module 'ds' is not defined.\n",
            "input.fsx (4,58)-(4,60) typecheck error The value or constructor 'ds' is not defined.\n",
            "input.fsx (4,58)-(4,64) typecheck error The operator 'expr.[idx]' has been used on an object of indeterminate type based on information prior to this program point. Consider adding further type constraints"
          ]
        }
      ],
      "metadata": {
        "dotnet_interactive": {
          "language": "fsharp"
        }
      }
    },
    {
      "cell_type": "code",
      "execution_count": null,
      "source": [
        "disricts.[0].IndexColumnsWith"
      ],
      "outputs": [
        {
          "output_type": "error",
          "ename": "Error",
          "evalue": "input.fsx (1,1)-(1,9) typecheck error The value or constructor 'disricts' is not defined.\ninput.fsx (1,1)-(1,13) typecheck error The operator 'expr.[idx]' has been used on an object of indeterminate type based on information prior to this program point. Consider adding further type constraints",
          "traceback": [
            "input.fsx (1,1)-(1,9) typecheck error The value or constructor 'disricts' is not defined.\n",
            "input.fsx (1,1)-(1,13) typecheck error The operator 'expr.[idx]' has been used on an object of indeterminate type based on information prior to this program point. Consider adding further type constraints"
          ]
        }
      ],
      "metadata": {
        "dotnet_interactive": {
          "language": "fsharp"
        }
      }
    },
    {
      "cell_type": "code",
      "execution_count": null,
      "source": [
        "e"
      ],
      "outputs": [
        {
          "output_type": "error",
          "ename": "Error",
          "evalue": "input.fsx (1,1)-(1,2) typecheck error The value or constructor 'e' is not defined.",
          "traceback": [
            "input.fsx (1,1)-(1,2) typecheck error The value or constructor 'e' is not defined."
          ]
        }
      ],
      "metadata": {
        "dotnet_interactive": {
          "language": "fsharp"
        }
      }
    },
    {
      "cell_type": "code",
      "execution_count": null,
      "source": [
        "let es: ElectionGroup = {\n",
        "                         Name=\"RR16\"; \n",
        "                         Score=Map.ofList[(\"Black\", 1.);\n",
        "                                          (\"Hispanic\", 1.)];\n",
        "                         Primary=e; \n",
        "                         PrimaryCoC=Map.ofList[(\"Black\", \"YarbroughD_16P_RR_Comm_1\");\n",
        "                                               (\"Hispanic\", \"YarbroughD_16P_RR_Comm_1\")];\n",
        "                         Runoff=None;RunoffCoC=None;General=None;GeneralCoC=None;\n",
        "                         }\n",
        "\n",
        "let mins: (Minority.Minority * LogitParams option) array = [|(\"Black\", \"BCVAP18\", \"CVAP18\"), None;\n",
        "                                                             (\"Hispanic\", \"HCVAP18\", \"CVAP18\"), None|]"
      ],
      "outputs": [
        {
          "output_type": "error",
          "ename": "Error",
          "evalue": "input.fsx (1,9)-(1,22) typecheck error The type 'ElectionGroup' is not defined.\ninput.fsx (2,26)-(2,30) typecheck error The record label 'Name' is not defined.\ninput.fsx (11,12)-(11,20) typecheck error The namespace or module 'Minority' is not defined.\ninput.fsx (11,32)-(11,43) typecheck error The type 'LogitParams' is not defined.",
          "traceback": [
            "input.fsx (1,9)-(1,22) typecheck error The type 'ElectionGroup' is not defined.\n",
            "input.fsx (2,26)-(2,30) typecheck error The record label 'Name' is not defined.\n",
            "input.fsx (11,12)-(11,20) typecheck error The namespace or module 'Minority' is not defined.\n",
            "input.fsx (11,32)-(11,43) typecheck error The type 'LogitParams' is not defined."
          ]
        }
      ],
      "metadata": {
        "dotnet_interactive": {
          "language": "fsharp"
        }
      }
    },
    {
      "cell_type": "code",
      "execution_count": null,
      "source": [
        "let logit = Some {Coef=8.999168254502017; Intercept= -2.5902236098513614}"
      ],
      "outputs": [
        {
          "output_type": "error",
          "ename": "Error",
          "evalue": "input.fsx (1,19)-(1,23) typecheck error The record label 'Coef' is not defined.",
          "traceback": [
            "input.fsx (1,19)-(1,23) typecheck error The record label 'Coef' is not defined."
          ]
        }
      ],
      "metadata": {
        "dotnet_interactive": {
          "language": "fsharp"
        }
      }
    },
    {
      "cell_type": "code",
      "execution_count": null,
      "source": [
        "let d = Seq.head ds"
      ],
      "outputs": [
        {
          "output_type": "error",
          "ename": "Error",
          "evalue": "input.fsx (1,18)-(1,20) typecheck error The value or constructor 'ds' is not defined.",
          "traceback": [
            "input.fsx (1,18)-(1,20) typecheck error The value or constructor 'ds' is not defined."
          ]
        }
      ],
      "metadata": {
        "dotnet_interactive": {
          "language": "fsharp"
        }
      }
    },
    {
      "cell_type": "code",
      "execution_count": null,
      "source": [
        "DistrictVRAEffectiveness (fst mins.[0]) [|es|] CoCCarriesElectTX logit d"
      ],
      "outputs": [
        {
          "output_type": "error",
          "ename": "Error",
          "evalue": "input.fsx (1,1)-(1,25) typecheck error The value or constructor 'DistrictVRAEffectiveness' is not defined.",
          "traceback": [
            "input.fsx (1,1)-(1,25) typecheck error The value or constructor 'DistrictVRAEffectiveness' is not defined."
          ]
        }
      ],
      "metadata": {
        "dotnet_interactive": {
          "language": "fsharp"
        }
      }
    },
    {
      "cell_type": "code",
      "execution_count": null,
      "source": [
        "let vrascores: PlanVRAScores<int> = PlanVRAEffectiveness txPlan \"District\" mins [|es|] CoCCarriesElectTX"
      ],
      "outputs": [
        {
          "output_type": "error",
          "ename": "Error",
          "evalue": "input.fsx (1,16)-(1,29) typecheck error The type 'PlanVRAScores' is not defined.\ninput.fsx (1,37)-(1,57) typecheck error The value or constructor 'PlanVRAEffectiveness' is not defined.",
          "traceback": [
            "input.fsx (1,16)-(1,29) typecheck error The type 'PlanVRAScores' is not defined.\n",
            "input.fsx (1,37)-(1,57) typecheck error The value or constructor 'PlanVRAEffectiveness' is not defined."
          ]
        }
      ],
      "metadata": {
        "dotnet_interactive": {
          "language": "fsharp"
        }
      }
    },
    {
      "cell_type": "code",
      "execution_count": null,
      "source": [],
      "outputs": [],
      "metadata": {
        "dotnet_interactive": {
          "language": "fsharp"
        }
      }
    },
    {
      "cell_type": "code",
      "execution_count": null,
      "source": [
        "vrascores"
      ],
      "outputs": [
        {
          "output_type": "error",
          "ename": "Error",
          "evalue": "input.fsx (1,1)-(1,10) typecheck error The value or constructor 'vrascores' is not defined.",
          "traceback": [
            "input.fsx (1,1)-(1,10) typecheck error The value or constructor 'vrascores' is not defined."
          ]
        }
      ],
      "metadata": {
        "dotnet_interactive": {
          "language": "fsharp"
        }
      }
    },
    {
      "cell_type": "code",
      "execution_count": null,
      "source": [
        "Seq.zip districtIDs vrascores |> Map"
      ],
      "outputs": [
        {
          "output_type": "error",
          "ename": "Error",
          "evalue": "input.fsx (1,9)-(1,20) typecheck error The value or constructor 'districtIDs' is not defined.\ninput.fsx (1,21)-(1,30) typecheck error The value or constructor 'vrascores' is not defined.",
          "traceback": [
            "input.fsx (1,9)-(1,20) typecheck error The value or constructor 'districtIDs' is not defined.\n",
            "input.fsx (1,21)-(1,30) typecheck error The value or constructor 'vrascores' is not defined."
          ]
        }
      ],
      "metadata": {
        "dotnet_interactive": {
          "language": "fsharp"
        }
      }
    },
    {
      "cell_type": "code",
      "execution_count": null,
      "source": [
        "districtIDs"
      ],
      "outputs": [
        {
          "output_type": "error",
          "ename": "Error",
          "evalue": "input.fsx (1,1)-(1,12) typecheck error The value or constructor 'districtIDs' is not defined.",
          "traceback": [
            "input.fsx (1,1)-(1,12) typecheck error The value or constructor 'districtIDs' is not defined."
          ]
        }
      ],
      "metadata": {
        "dotnet_interactive": {
          "language": "fsharp"
        }
      }
    },
    {
      "cell_type": "code",
      "execution_count": null,
      "source": [
        "let a = [|\"a\"; \"b\"|]\n",
        "let b = [|1;3|]"
      ],
      "outputs": [],
      "metadata": {
        "dotnet_interactive": {
          "language": "fsharp"
        }
      }
    },
    {
      "cell_type": "code",
      "execution_count": null,
      "source": [
        "let m = Array.zip a b |> Map.ofArray"
      ],
      "outputs": [],
      "metadata": {
        "dotnet_interactive": {
          "language": "fsharp"
        }
      }
    },
    {
      "cell_type": "code",
      "execution_count": null,
      "source": [
        "m"
      ],
      "outputs": [
        {
          "output_type": "display_data",
          "data": {
            "text/html": [
              "<table><thead><tr><th><i>key</i></th><th>value</th></tr></thead><tbody><tr><td>a</td><td><div class=\"dni-plaintext\">1</div></td></tr><tr><td>b</td><td><div class=\"dni-plaintext\">3</div></td></tr></tbody></table>"
            ]
          },
          "metadata": {}
        }
      ],
      "metadata": {
        "dotnet_interactive": {
          "language": "fsharp"
        }
      }
    },
    {
      "cell_type": "markdown",
      "source": [
        "### Parse Json file representing data"
      ],
      "metadata": {}
    },
    {
      "cell_type": "code",
      "execution_count": null,
      "source": [],
      "outputs": [],
      "metadata": {
        "dotnet_interactive": {
          "language": "fsharp"
        }
      }
    },
    {
      "cell_type": "code",
      "execution_count": null,
      "source": [
        "let totCVAPcol = data.[\"tot_cvap_col\"] |> string\n",
        "\n",
        "let getLogitParams (details: JsonValue) = \n",
        "    let logit_params = details.[\"logit_params\"]\n",
        "    match logit_params with \n",
        "    | JsonValue.Record([|(\"coef\", coef); (\"intercept\", intercept)|]) -> Some {Coef = coef.AsFloat(); Intercept=intercept.AsFloat()}\n",
        "    | _ -> None\n",
        "\n",
        "let minorities = data.[\"minorities\"].Properties() \n",
        "              |> Array.map (fun (name, details) -> (Minority.Minority(name, details.[\"cvap_col\"].AsString(), totCVAPcol),\n",
        "                                                    getLogitParams details))"
      ],
      "outputs": [
        {
          "output_type": "error",
          "ename": "Error",
          "evalue": "input.fsx (1,18)-(1,22) typecheck error The value or constructor 'data' is not defined. Maybe you want one of the following:\n   Data\n   DataSetUtil\n   DateTime\ninput.fsx (1,18)-(1,39) typecheck error The operator 'expr.[idx]' has been used on an object of indeterminate type based on information prior to this program point. Consider adding further type constraints\ninput.fsx (3,30)-(3,39) typecheck error The type 'JsonValue' is not defined.\ninput.fsx (4,24)-(4,48) typecheck error The operator 'expr.[idx]' has been used on an object of indeterminate type based on information prior to this program point. Consider adding further type constraints\ninput.fsx (6,7)-(6,16) typecheck error The namespace or module 'JsonValue' is not defined. Maybe you want one of the following:\n   Json\ninput.fsx (9,18)-(9,22) typecheck error The value or constructor 'data' is not defined. Maybe you want one of the following:\n   Data\n   DataSetUtil\n   DateTime\ninput.fsx (9,18)-(9,37) typecheck error The operator 'expr.[idx]' has been used on an object of indeterminate type based on information prior to this program point. Consider adding further type constraints\ninput.fsx (10,53)-(10,61) typecheck error The value, namespace, type or module 'Minority' is not defined. Maybe you want one of the following:\n   min",
          "traceback": [
            "input.fsx (1,18)-(1,22) typecheck error The value or constructor 'data' is not defined. Maybe you want one of the following:\n",
            "   Data\n",
            "   DataSetUtil\n",
            "   DateTime\n",
            "input.fsx (1,18)-(1,39) typecheck error The operator 'expr.[idx]' has been used on an object of indeterminate type based on information prior to this program point. Consider adding further type constraints\n",
            "input.fsx (3,30)-(3,39) typecheck error The type 'JsonValue' is not defined.\n",
            "input.fsx (4,24)-(4,48) typecheck error The operator 'expr.[idx]' has been used on an object of indeterminate type based on information prior to this program point. Consider adding further type constraints\n",
            "input.fsx (6,7)-(6,16) typecheck error The namespace or module 'JsonValue' is not defined. Maybe you want one of the following:\n",
            "   Json\n",
            "input.fsx (9,18)-(9,22) typecheck error The value or constructor 'data' is not defined. Maybe you want one of the following:\n",
            "   Data\n",
            "   DataSetUtil\n",
            "   DateTime\n",
            "input.fsx (9,18)-(9,37) typecheck error The operator 'expr.[idx]' has been used on an object of indeterminate type based on information prior to this program point. Consider adding further type constraints\n",
            "input.fsx (10,53)-(10,61) typecheck error The value, namespace, type or module 'Minority' is not defined. Maybe you want one of the following:\n",
            "   min"
          ]
        }
      ],
      "metadata": {
        "dotnet_interactive": {
          "language": "fsharp"
        }
      }
    },
    {
      "cell_type": "code",
      "execution_count": null,
      "source": [
        "let ParseRunoffGeneralCands = function\n",
        "    | JsonValue.Array(cands) -> cands |> Array.map string |> Election |> Some\n",
        "    | _ -> None\n",
        "\n",
        "let ParseRunoffGeneralCoC = function\n",
        "    | JsonValue.Record(cocs) -> cocs |> Array.map (fun (k,v) -> k, v.AsString()) \n",
        "                                     |> Map.ofArray |> Some\n",
        "    | _ -> None\n",
        "\n",
        "let getElectionGroup (electgroup: JsonValue) =\n",
        "    let name = electgroup.[\"name\"] |> string\n",
        "    let scores = electgroup.[\"score\"].Properties() \n",
        "               |> Array.map (fun (k,v) -> k, v.AsFloat()) |> Map.ofArray\n",
        "    \n",
        "    let primary = electgroup.[\"primary_cands\"].AsArray() \n",
        "                     |> Array.map string |> Election\n",
        "    let primaryCoC = electgroup.[\"primary_coc\"].Properties()\n",
        "                    |> Array.map (fun (k,v) -> k, v.AsString()) |> Map.ofArray\n",
        "    \n",
        "    let runoff = ParseRunoffGeneralCands electgroup.[\"runoff_cands\"]\n",
        "    let runoffCoC = ParseRunoffGeneralCoC electgroup.[\"runoff_coc\"]\n",
        "\n",
        "    let general = ParseRunoffGeneralCands electgroup.[\"runoff_cands\"]\n",
        "    let generalCoC = ParseRunoffGeneralCoC electgroup.[\"runoff_coc\"]\n",
        "\n",
        "    {Name=name; Score=scores; Primary=primary; PrimaryCoC=primaryCoC; Runoff=runoff; \n",
        "     RunoffCoC=runoffCoC; General=general;GeneralCoC=generalCoC}"
      ],
      "outputs": [
        {
          "output_type": "error",
          "ename": "Error",
          "evalue": "input.fsx (2,7)-(2,16) typecheck error The namespace or module 'JsonValue' is not defined. Maybe you want one of the following:\n   Json\ninput.fsx (6,7)-(6,16) typecheck error The namespace or module 'JsonValue' is not defined. Maybe you want one of the following:\n   Json\ninput.fsx (10,35)-(10,44) typecheck error The type 'JsonValue' is not defined.\ninput.fsx (11,16)-(11,35) typecheck error The operator 'expr.[idx]' has been used on an object of indeterminate type based on information prior to this program point. Consider adding further type constraints\ninput.fsx (12,18)-(12,38) typecheck error The operator 'expr.[idx]' has been used on an object of indeterminate type based on information prior to this program point. Consider adding further type constraints\ninput.fsx (13,46)-(13,55) typecheck error Lookup on object of indeterminate type based on information prior to this program point. A type annotation may be needed prior to this program point to constrain the type of the object. This may allow the lookup to be resolved.\ninput.fsx (15,19)-(15,47) typecheck error The operator 'expr.[idx]' has been used on an object of indeterminate type based on information prior to this program point. Consider adding further type constraints\ninput.fsx (16,45)-(16,53) typecheck error The value or constructor 'Election' is not defined. Maybe you want one of the following:\n   Reflection\n   electgroup\n   Exception\n   Action\ninput.fsx (17,22)-(17,48) typecheck error The operator 'expr.[idx]' has been used on an object of indeterminate type based on information prior to this program point. Consider adding further type constraints\ninput.fsx (18,51)-(18,61) typecheck error Lookup on object of indeterminate type based on information prior to this program point. A type annotation may be needed prior to this program point to constrain the type of the object. This may allow the lookup to be resolved.\ninput.fsx (20,42)-(20,69) typecheck error The operator 'expr.[idx]' has been used on an object of indeterminate type based on information prior to this program point. Consider adding further type constraints\ninput.fsx (21,43)-(21,68) typecheck error The operator 'expr.[idx]' has been used on an object of indeterminate type based on information prior to this program point. Consider adding further type constraints\ninput.fsx (23,43)-(23,70) typecheck error The operator 'expr.[idx]' has been used on an object of indeterminate type based on information prior to this program point. Consider adding further type constraints\ninput.fsx (24,44)-(24,69) typecheck error The operator 'expr.[idx]' has been used on an object of indeterminate type based on information prior to this program point. Consider adding further type constraints\ninput.fsx (26,6)-(26,10) typecheck error The record label 'Name' is not defined.",
          "traceback": [
            "input.fsx (2,7)-(2,16) typecheck error The namespace or module 'JsonValue' is not defined. Maybe you want one of the following:\n",
            "   Json\n",
            "input.fsx (6,7)-(6,16) typecheck error The namespace or module 'JsonValue' is not defined. Maybe you want one of the following:\n",
            "   Json\n",
            "input.fsx (10,35)-(10,44) typecheck error The type 'JsonValue' is not defined.\n",
            "input.fsx (11,16)-(11,35) typecheck error The operator 'expr.[idx]' has been used on an object of indeterminate type based on information prior to this program point. Consider adding further type constraints\n",
            "input.fsx (12,18)-(12,38) typecheck error The operator 'expr.[idx]' has been used on an object of indeterminate type based on information prior to this program point. Consider adding further type constraints\n",
            "input.fsx (13,46)-(13,55) typecheck error Lookup on object of indeterminate type based on information prior to this program point. A type annotation may be needed prior to this program point to constrain the type of the object. This may allow the lookup to be resolved.\n",
            "input.fsx (15,19)-(15,47) typecheck error The operator 'expr.[idx]' has been used on an object of indeterminate type based on information prior to this program point. Consider adding further type constraints\n",
            "input.fsx (16,45)-(16,53) typecheck error The value or constructor 'Election' is not defined. Maybe you want one of the following:\n",
            "   Reflection\n",
            "   electgroup\n",
            "   Exception\n",
            "   Action\n",
            "input.fsx (17,22)-(17,48) typecheck error The operator 'expr.[idx]' has been used on an object of indeterminate type based on information prior to this program point. Consider adding further type constraints\n",
            "input.fsx (18,51)-(18,61) typecheck error Lookup on object of indeterminate type based on information prior to this program point. A type annotation may be needed prior to this program point to constrain the type of the object. This may allow the lookup to be resolved.\n",
            "input.fsx (20,42)-(20,69) typecheck error The operator 'expr.[idx]' has been used on an object of indeterminate type based on information prior to this program point. Consider adding further type constraints\n",
            "input.fsx (21,43)-(21,68) typecheck error The operator 'expr.[idx]' has been used on an object of indeterminate type based on information prior to this program point. Consider adding further type constraints\n",
            "input.fsx (23,43)-(23,70) typecheck error The operator 'expr.[idx]' has been used on an object of indeterminate type based on information prior to this program point. Consider adding further type constraints\n",
            "input.fsx (24,44)-(24,69) typecheck error The operator 'expr.[idx]' has been used on an object of indeterminate type based on information prior to this program point. Consider adding further type constraints\n",
            "input.fsx (26,6)-(26,10) typecheck error The record label 'Name' is not defined."
          ]
        }
      ],
      "metadata": {
        "dotnet_interactive": {
          "language": "fsharp"
        }
      }
    },
    {
      "cell_type": "code",
      "execution_count": null,
      "source": [
        "let elections = match data.[\"election_groups\"] with\n",
        "                | JsonValue.Array(elements) -> elements |> Array.map getElectionGroup\n",
        "                | _ -> [||]"
      ],
      "outputs": [
        {
          "output_type": "error",
          "ename": "Error",
          "evalue": "input.fsx (1,23)-(1,27) typecheck error The value or constructor 'data' is not defined. Maybe you want one of the following:\n   Data\n   DataSetUtil\n   DateTime\ninput.fsx (1,23)-(1,47) typecheck error The operator 'expr.[idx]' has been used on an object of indeterminate type based on information prior to this program point. Consider adding further type constraints\ninput.fsx (2,19)-(2,28) typecheck error The namespace or module 'JsonValue' is not defined. Maybe you want one of the following:\n   Json",
          "traceback": [
            "input.fsx (1,23)-(1,27) typecheck error The value or constructor 'data' is not defined. Maybe you want one of the following:\n",
            "   Data\n",
            "   DataSetUtil\n",
            "   DateTime\n",
            "input.fsx (1,23)-(1,47) typecheck error The operator 'expr.[idx]' has been used on an object of indeterminate type based on information prior to this program point. Consider adding further type constraints\n",
            "input.fsx (2,19)-(2,28) typecheck error The namespace or module 'JsonValue' is not defined. Maybe you want one of the following:\n",
            "   Json"
          ]
        }
      ],
      "metadata": {
        "dotnet_interactive": {
          "language": "fsharp"
        }
      }
    },
    {
      "cell_type": "code",
      "execution_count": null,
      "source": [
        "elections.[0..2]"
      ],
      "outputs": [
        {
          "output_type": "error",
          "ename": "Error",
          "evalue": "input.fsx (1,1)-(1,10) typecheck error The value or constructor 'elections' is not defined. Maybe you want one of the following:\n   Reflection\n   Collections\ninput.fsx (1,1)-(1,17) typecheck error Lookup on object of indeterminate type based on information prior to this program point. A type annotation may be needed prior to this program point to constrain the type of the object. This may allow the lookup to be resolved.",
          "traceback": [
            "input.fsx (1,1)-(1,10) typecheck error The value or constructor 'elections' is not defined. Maybe you want one of the following:\n",
            "   Reflection\n",
            "   Collections\n",
            "input.fsx (1,1)-(1,17) typecheck error Lookup on object of indeterminate type based on information prior to this program point. A type annotation may be needed prior to this program point to constrain the type of the object. This may allow the lookup to be resolved."
          ]
        }
      ],
      "metadata": {
        "dotnet_interactive": {
          "language": "fsharp"
        }
      }
    },
    {
      "cell_type": "code",
      "execution_count": null,
      "source": [
        "let vrascores: PlanVRAScores<int> = PlanVRAEffectiveness txPlan \"District\" minorities elections CoCCarriesElectTX"
      ],
      "outputs": [
        {
          "output_type": "error",
          "ename": "Error",
          "evalue": "input.fsx (1,16)-(1,29) typecheck error The type 'PlanVRAScores' is not defined.\ninput.fsx (1,37)-(1,57) typecheck error The value or constructor 'PlanVRAEffectiveness' is not defined.",
          "traceback": [
            "input.fsx (1,16)-(1,29) typecheck error The type 'PlanVRAScores' is not defined.\n",
            "input.fsx (1,37)-(1,57) typecheck error The value or constructor 'PlanVRAEffectiveness' is not defined."
          ]
        }
      ],
      "metadata": {
        "dotnet_interactive": {
          "language": "fsharp"
        }
      }
    },
    {
      "cell_type": "code",
      "execution_count": null,
      "source": [],
      "outputs": [],
      "metadata": {
        "dotnet_interactive": {
          "language": "fsharp"
        }
      }
    },
    {
      "cell_type": "code",
      "execution_count": null,
      "source": [],
      "outputs": [],
      "metadata": {
        "dotnet_interactive": {
          "language": "fsharp"
        }
      }
    },
    {
      "cell_type": "code",
      "execution_count": null,
      "source": [],
      "outputs": [],
      "metadata": {
        "dotnet_interactive": {
          "language": "fsharp"
        }
      }
    },
    {
      "cell_type": "code",
      "execution_count": null,
      "source": [],
      "outputs": [],
      "metadata": {
        "dotnet_interactive": {
          "language": "fsharp"
        }
      }
    },
    {
      "cell_type": "code",
      "execution_count": null,
      "source": [],
      "outputs": [],
      "metadata": {
        "dotnet_interactive": {
          "language": "fsharp"
        }
      }
    },
    {
      "cell_type": "code",
      "execution_count": null,
      "source": [],
      "outputs": [],
      "metadata": {
        "dotnet_interactive": {
          "language": "fsharp"
        }
      }
    }
  ],
  "metadata": {
    "kernelspec": {
      "display_name": ".NET (F#)",
      "language": "F#",
      "name": ".net-fsharp"
    },
    "language_info": {
      "name": "F#",
      "version": ""
    }
  },
  "nbformat": 4,
  "nbformat_minor": 4
}